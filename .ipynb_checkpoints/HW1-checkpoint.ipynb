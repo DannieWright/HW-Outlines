{
 "cells": [
  {
   "cell_type": "markdown",
   "metadata": {},
   "source": [
    "# Homework 1\n",
    "## Due Wednesday Jan 31, 2018, at 9:15AM \n",
    "\n",
    "### Exercises/Interactive Practice\n",
    "\n",
    "1. Please do the Intro Survey. [linked here](https://goo.gl/forms/zdDAOxlOkubFJBFy2)\n",
    "\n",
    "2. Take your reading notes in this document (or rather your Forked/Cloned version). See the Complete Syllabus for some guidelines on reading notes.\n",
    "\n",
    "3. Do HW1 on [Runestone](https://runestone.academy/runestone/default/user/login?_next=/runestone/admin/admin).  A few general guidelines on Runestone: \n",
    "\n",
    "    * I will grade your submissions to the embedded questions within the Runestone software. \n",
    "  \n",
    "    * You do not have to watch the videos if you feel comfortable skipping them.\n",
    "     \n",
    "    * I really like the interactive reading with embedded questions.  You should take notes on this section  in your Reading Notes Notebook, but don't be overly detailed.  This is a book on scientific problem solving, but it focuses more on computer science vocabulary that I will.  I am more interested in having you do interactive practice of the concepts with the embedded questions.  \n",
    " \n",
    "4.  Read through both the Complete Syllabus (on Moodle and handed out) and the Short Syllabus (on GitHub) answer the questions below.  "
   ]
  },
  {
   "cell_type": "markdown",
   "metadata": {},
   "source": [
    "### Reading Assignment:\n",
    "\n",
    "* Interactive Python Reading in HW 1 (as described above)\n",
    "* Newman Reading.  \n",
    "    * First Paragraph Ch 2 \n",
    "    * Skip section 2.1 - if you're interested in running Python outside of the Jupyter notebook, the IDLE software is a reasonable choice.\n",
    "    * Section 2.2 - be sure to try out Example 2.1!"
   ]
  },
  {
   "cell_type": "markdown",
   "metadata": {},
   "source": [
    "#### Reading Notes: \n",
    "(i.e. here is a Markdown cell to get you started.  Add more cells as needed.)"
   ]
  },
  {
   "cell_type": "markdown",
   "metadata": {},
   "source": [
    "### Syllabus Assignment Questions\n",
    "\n",
    "1.  When and where are my office hours?\n",
    "\n",
    "2.  How do I feel about late work?  \n",
    "\n",
    "3.  How do you submit assignments to be graded?\n",
    "\n",
    "4.  Where will I post your grades?\n",
    "\n",
    "5.  What is the pair programming model used for?  After a day of trying it, do you think it helps produce better code?  Why?\n",
    "\n",
    "5.  Which assignment category is subject to the revision cycle.  \n",
    "    *Just a heads up, I will explain the revision cycle in more detail next week.  It's awesome, it has made me a better teacher and my students better learners.*\n",
    "    \n",
    "6.  Read through the Student Learning Objectives in the Complete Syllabus.  There are three categories as required by the Pacific University.  I will ask about Course Level objectives later in the course.  For now, select an SLO from the top two categories (the Natural Sciences Core and Physics Major sections) and pick one that stood out to you.  Use it to answer either of the following prompts:\n",
    "    * Briefly explain how you have met this student learning objective.  Include an example.  \n",
    "    * Or conversely, briefly explain how you have NOT met this student learning objective, and how you think you can improve (and how I can help).\n",
    "   \n",
    "7.  What does Academic Honesty mean in the context of writing and sharing computer code?  Don't simply quote the syllabus (although please read it!)  Why does academic honesty and ethical computing matter?\n",
    "\n",
    "8.  What questions do you have about anything - the syllabus, the course, the meaning of life?\n",
    "\n",
    "\n",
    "__I may ask more syllabus questions in the future as the class marches on.  Be forewarned that I have been known to ask questions about the syllabus on midterm exams.__"
   ]
  },
  {
   "cell_type": "markdown",
   "metadata": {},
   "source": [
    "### Last question \n",
    "__ How long do you estimate this total assignment took you to complete? __"
   ]
  }
 ],
 "metadata": {
  "kernelspec": {
   "display_name": "Python 3",
   "language": "python",
   "name": "python3"
  },
  "language_info": {
   "codemirror_mode": {
    "name": "ipython",
    "version": 3
   },
   "file_extension": ".py",
   "mimetype": "text/x-python",
   "name": "python",
   "nbconvert_exporter": "python",
   "pygments_lexer": "ipython3",
   "version": "3.6.3"
  }
 },
 "nbformat": 4,
 "nbformat_minor": 2
}
