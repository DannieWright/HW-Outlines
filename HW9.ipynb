{
 "cells": [
  {
   "cell_type": "markdown",
   "metadata": {},
   "source": [
    "Markdown allows for LaTeX. This can be done inline with two $, or the general \\begin methods.\n",
    "\n",
    "Use '&' for spacing. Unlike most other sources you don't need two  $$ for math mode.\n",
    "\n",
    "Some of the main are:\n",
    "    #\\begin{equation*}\n",
    "    #\\begin{align}\n",
    "    #\\begin{array}{c}\n",
    "    #\\begin{eqnarray}"
   ]
  },
  {
   "cell_type": "markdown",
   "metadata": {},
   "source": [
    "# GIT COMMANDS!!!!!!!!!!!!!!!!!!!!!!!!!!!!!!!!!!!!!!!!!!!!!!!!!!!!!!!!!!!!!!!!!!!!!!!!!!\n",
    "\n",
    "git init - initializes a brand new repository\n",
    "\n",
    "git clone - creates a local repository of an existing project stored remotely\n",
    "\n",
    "git add - stages a project taking a snapshot adding it to version history\n",
    "\n",
    "git commit - commits an added project to the remote repository\n",
    "\n",
    "git branch - shows branch checked out\n",
    "\n",
    "git merge - combines two branches\n",
    "\n",
    "git pull - pulls a remote branch to the local environment\n",
    "\n",
    "git push updates the remote branch based upon the commits\n",
    "\n",
    "https://guides.github.com/introduction/git-handbook/"
   ]
  },
  {
   "cell_type": "markdown",
   "metadata": {},
   "source": [
    "Forking a repository adds it your own repository. The forked repository can then be updated and a 'pull' request can be made to add your work back to the repository you forked from.\n",
    "\n",
    "https://guides.github.com/activities/forking/"
   ]
  },
  {
   "cell_type": "markdown",
   "metadata": {},
   "source": [
    "https://help.github.com/articles/syncing-a-fork/"
   ]
  },
  {
   "cell_type": "code",
   "execution_count": null,
   "metadata": {
    "collapsed": true
   },
   "outputs": [],
   "source": []
  }
 ],
 "metadata": {
  "kernelspec": {
   "display_name": "Python 3",
   "language": "python",
   "name": "python3"
  },
  "language_info": {
   "codemirror_mode": {
    "name": "ipython",
    "version": 3
   },
   "file_extension": ".py",
   "mimetype": "text/x-python",
   "name": "python",
   "nbconvert_exporter": "python",
   "pygments_lexer": "ipython3",
   "version": "3.6.3"
  }
 },
 "nbformat": 4,
 "nbformat_minor": 2
}
