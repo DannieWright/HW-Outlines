{
 "cells": [
  {
   "cell_type": "markdown",
   "metadata": {},
   "source": [
    "# 5.1\n",
    "\n",
    "The Extended Trapezoidal Rule for integral approximation is given by the formula:\n",
    "\n",
    "$I (a, b) \\approx h \\big [ \\frac{1}{2} f (a) + \\frac{1}{2} f (b) + \\sum^{N-1}_{k=1} f (a + kh) \\big ]$  \n",
    "\n",
    "Where $N$ is the number of slices, and $h = \\frac{b - a}{N}$ over a region $(a,b)$."
   ]
  },
  {
   "cell_type": "markdown",
   "metadata": {},
   "source": [
    "### Example 5.1"
   ]
  },
  {
   "cell_type": "code",
   "execution_count": 1,
   "metadata": {},
   "outputs": [
    {
     "name": "stdout",
     "output_type": "stream",
     "text": [
      "4.50656\n"
     ]
    }
   ],
   "source": [
    "def f(x):\n",
    "    return x**4 - 2*x + 1\n",
    "\n",
    "N = 10\n",
    "a = 0.0\n",
    "b = 2.0\n",
    "h = (b - a) / N\n",
    "\n",
    "s = 0.5 * f (a) + 0.5 * f (b)\n",
    "\n",
    "for k in range (1, N):\n",
    "    s += f (a + k * h)\n",
    "    \n",
    "print (h * s)"
   ]
  },
  {
   "cell_type": "markdown",
   "metadata": {},
   "source": [
    "The Simpson's integral approximation comes from taking three points and converting those points into a polynomial curve, then the area under the polynomial is calculated. This method tends to be much more accurate then the Trapezoidal method. This is given by:  \n",
    "\n",
    "$I(a, b) \\approx \\frac{1}{3} h \\big [f (a) + f (b) + 4 \\sum\\substack{k \\ odd \\\\ 1...N-1} f (a + kh) + 2 \\sum\\substack{k \\ even \\\\ 2...N-2} f (a + kh) \\big ]$"
   ]
  },
  {
   "cell_type": "markdown",
   "metadata": {},
   "source": [
    "My solution to exercise 4.4:"
   ]
  },
  {
   "cell_type": "code",
   "execution_count": 3,
   "metadata": {
    "collapsed": true
   },
   "outputs": [],
   "source": [
    "import numpy as np\n",
    "import math as mt\n",
    "\n",
    "\"\"\"\n",
    "Description: Approximates the integral value of the given function on the given domain based upon the Riemann sum formula\n",
    "\n",
    "Parameters: func - function having its integral approximated\n",
    "            numSlices - number of terms to break the domain up into\n",
    "            x1 - left most domain value\n",
    "            x2 - right most domain value\n",
    "\n",
    "Returned: the Riemann sum approximation of the integral of the given function\n",
    "\"\"\"\n",
    "def integralApprox (func, numSlices, x1, x2):\n",
    "    domain = np.linspace (x1, x2, numSlices)\n",
    "    sliceLength = abs(domain[1] - domain[0])\n",
    "    sum = 0\n",
    "    \n",
    "    for d in domain:\n",
    "        sum += func(d) * sliceLength\n",
    "        \n",
    "    return sum"
   ]
  },
  {
   "cell_type": "markdown",
   "metadata": {},
   "source": [
    "As a result of how I did my solution to exercise 4.4 it would not take very much work to swap the solution to that of the trapezoidal approximation. For the 'sum' initialization I would set sum equal to $\\frac{1}{2} f (x1) + \\frac{1}{2} f (x2)$. I would then change the for-loop to being based from 1 to N-1. Of course the actual summing in the for-loop would be changed to the trapezoidal sum.  \n",
    "\n",
    "The func is the function we are integrating, and is generic for any function accepting a single float value and returning a single float value.\n",
    "\n",
    "The slices are defined by the domain and the number of slices that the user wants based upon the accruacy of the calculation they want."
   ]
  },
  {
   "cell_type": "code",
   "execution_count": null,
   "metadata": {
    "collapsed": true
   },
   "outputs": [],
   "source": []
  }
 ],
 "metadata": {
  "kernelspec": {
   "display_name": "Python 3",
   "language": "python",
   "name": "python3"
  },
  "language_info": {
   "codemirror_mode": {
    "name": "ipython",
    "version": 3
   },
   "file_extension": ".py",
   "mimetype": "text/x-python",
   "name": "python",
   "nbconvert_exporter": "python",
   "pygments_lexer": "ipython3",
   "version": "3.6.3"
  }
 },
 "nbformat": 4,
 "nbformat_minor": 2
}
