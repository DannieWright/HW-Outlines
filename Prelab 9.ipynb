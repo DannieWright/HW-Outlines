{
 "cells": [
  {
   "cell_type": "markdown",
   "metadata": {},
   "source": [
    "## 8.3 Second-Order Differential Equations\n",
    "\n",
    "The general form for a second-order differential equation of one dependent variable is\n",
    "\n",
    "$\\frac{d^2x}{dt^2} = f (x, \\frac{dx}{dt}, t)$\n",
    "\n",
    "We define $y = \\frac{dx}{dt}$, then\n",
    "\n",
    "$\\frac{dy}{dt} = f (x, y, t)$\n",
    "\n",
    "This reduces our second-order equation to two simultaneous first-order equations, which we already know how to solve. We can continue to do this with higher order equations, all we do is add another variable like\n",
    "\n",
    "$\\frac{d^3x}{dt^3} = f (x, \\frac{dx}{dt}, \\frac{d^2}{dt^2}, t) = f (x, y, z, t) \\\\\n",
    "y = \\frac{dx}{dt}, \\ z = \\frac{dy}{dt}$\n",
    "\n",
    "This means that in general (since all we are doing is adding the number of variables), we get\n",
    "\n",
    "$\\frac{d^2\\vec{r}}{dt^2} = \\vec{f} (\\vec{r}, \\frac{d\\vec{r}}{dt}, t)$\n",
    "\n",
    "Which is equivilent to \n",
    "\n",
    "$\\frac{d\\vec{r}}{dt} = \\vec{s}, \\ \\frac{d\\vec{s}}{dt} = \\vec{f} (\\vec{r}, \\vec{s}, t)$\n",
    "\n",
    "If we started off with two simultaneous second-order equations we would end up with four simultaneous first-order equations. In general, an initial system of n equations of mth order becomes a system of m x n simultaneous first-order equations."
   ]
  },
  {
   "cell_type": "markdown",
   "metadata": {},
   "source": [
    "I have to go with the Lorenz equations because it brings me back to the simpler times of Relativity my freshman year."
   ]
  },
  {
   "cell_type": "code",
   "execution_count": null,
   "metadata": {
    "collapsed": true
   },
   "outputs": [],
   "source": []
  }
 ],
 "metadata": {
  "kernelspec": {
   "display_name": "Python 3",
   "language": "python",
   "name": "python3"
  },
  "language_info": {
   "codemirror_mode": {
    "name": "ipython",
    "version": 3
   },
   "file_extension": ".py",
   "mimetype": "text/x-python",
   "name": "python",
   "nbconvert_exporter": "python",
   "pygments_lexer": "ipython3",
   "version": "3.6.3"
  }
 },
 "nbformat": 4,
 "nbformat_minor": 2
}
