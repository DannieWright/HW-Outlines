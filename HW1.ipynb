{
 "cells": [
  {
   "cell_type": "markdown",
   "metadata": {},
   "source": [
    " # Make a Runestone Account:\n",
    " \n",
    " For the first few HW assignments, you will work on the PHY325 Interactive Python page, hosted by Runestone Academy page.  To do this:\n",
    "   * Link to  [Interactive Python in Runestone Academy](https://runestone.academy/runestone/static/PHY325/index.html).  You should see a Table of Contents with clickable links.  Make sure you are at the new version of the page.  \n",
    "   * Click the little person icon in the top right of the page, __click on Register__.   I have had some trouble logging into this page because there is an older version that looks identical. Look for a green box with a heading that reads __\"Welcome to the New Home of Runestone Interactive.\"__\n",
    "\n",
    "   * __Enter \"PHY325\" in the Course Name box__ when you register."
   ]
  },
  {
   "cell_type": "markdown",
   "metadata": {},
   "source": [
    "# Homework 1\n",
    "## Due Wednesday Jan 31, 2018, at 9:15AM \n",
    "\n",
    "### Exercises/Interactive Practice\n",
    "\n",
    "1. Please do the Intro Survey. [linked here](https://goo.gl/forms/zdDAOxlOkubFJBFy2)\n",
    "\n",
    "2. Take your reading notes however you'd like, either __on paper, in a text file, or you are welcome to try a Jupyter Notebook.__  *In the future it will be important to do them in a notebook so you can practice new pieces of code.  This week you will get plenty of practice on Runestone Academy (see below).*  See the Complete Syllabus for some guidelines on reading notes.\n",
    "\n",
    "3. Do HW1 on [Runestone](https://runestone.academy/runestone/default/user/login?_next=/runestone/admin/admin).  A few general guidelines on Runestone: \n",
    "\n",
    "    * Make an account (see above)\n",
    "\n",
    "    * I will grade your submissions to the embedded questions within the Runestone software. \n",
    "  \n",
    "    * You do not have to watch the videos if you feel comfortable skipping them.\n",
    "     \n",
    "    * You should take notes, but don't be overly detailed.  This is a book on scientific problem solving, but it focuses more on computer science vocabulary that I will.  I am more interested in having you do interactive practice of the concepts with the embedded questions.  \n",
    " \n",
    "4.  Read through both the Complete Syllabus (on Moodle and handed out) and the Short Syllabus [link to GitHub](https://github.com/Physics-PacU/Syllabus) answer the questions below.  "
   ]
  },
  {
   "cell_type": "markdown",
   "metadata": {},
   "source": [
    "## Reading Assignment:\n",
    "\n",
    "* Interactive Python Reading in HW 1 (on Runestone Academy as described above)\n",
    "* Newman Reading.  \n",
    "    * First Paragraph Ch 2 \n",
    "    * Skip section 2.1 - however if you're interested in running Python outside of the Jupyter notebook, the IDLE software is a reasonable choice.\n",
    "    * Section 2.2 - be sure to try out Example 2.1!"
   ]
  },
  {
   "cell_type": "markdown",
   "metadata": {},
   "source": [
    "### Syllabus Assignment Questions\n",
    "*Answer these on Moodle*"
   ]
  },
  {
   "cell_type": "markdown",
   "metadata": {},
   "source": [
    "### Last question \n",
    "__ How long do you estimate this total assignment took you to complete? __",
    "+5 hours"
   ]
  },
  {
   "cell_type": "code",
   "execution_count": null,
   "metadata": {
    "collapsed": true
   },
   "outputs": [],
   "source": []
  }
 ],
 "metadata": {
  "kernelspec": {
   "display_name": "Python 3",
   "language": "python",
   "name": "python3"
  },
  "language_info": {
   "codemirror_mode": {
    "name": "ipython",
    "version": 3
   },
   "file_extension": ".py",
   "mimetype": "text/x-python",
   "name": "python",
   "nbconvert_exporter": "python",
   "pygments_lexer": "ipython3",
   "version": "3.6.3"
  }
 },
 "nbformat": 4,
 "nbformat_minor": 2
}
