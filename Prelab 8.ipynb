{
 "cells": [
  {
   "cell_type": "markdown",
   "metadata": {},
   "source": [
    "Reading\n",
    "6.3.4 Binary search -- a.k.a. the bisection method\n",
    "6.3.5 Newton's method -- a.k.a. the Newton-Raphson method\n",
    "Interactive Practice\n",
    "Complete through Exercise TBD in Weekly Session 8\n",
    "Example 6.3: Ferromagnetism\n",
    "\n",
    "## 6.3.4 Binary Search (Bisection method)\n",
    "\n",
    "The **Bisection method** works by finding the roots for a function f(x) over a specified interval. This method will always find a root on the given interval if it exists. If there is exactly one root on the interval that the end point values will be of opposite sign. We then take the x-point in between our two endpoints. If the function value here is 0 then bang, done, else it will be positive or negative. Can repeat this with the endpoint of opposite sign. Can continue to pick the midpoint between the two until we get arbitrarily close to the root value.\n",
    "\n",
    "Given interval (x1, x2) and function f(x), then the procedure is\n",
    "\n",
    "    1) check to see if f(x1) and f(x2) are of opposite signs\n",
    "    2) calc midpoint x' and f(x')\n",
    "    3) if f(x') has the same sign as f(x1) then set x1 = x', else x2 = x'\n",
    "    4) while |x1 - x2| > target accuracy repeat from step (2), else find the midpoint one last time\n",
    "    \n",
    "Given $|x_1 - x_2| = \\delta$ then after N steps $\\delta/2^N$. So given the desired error C   \n",
    "$N = \\log_2 (\\frac{\\delta}{C})$  \n",
    "is the number of steps required to achieve this accuracy.\n",
    "\n",
    "\n",
    "This method does have disadvantages:\n",
    "\n",
    "    1) if there does not exist a root (or root in given domain) then it will fail\n",
    "    2) if there is an even number of roots within the given domain the it will fail\n",
    "    2) it cannot find roots if the roots exist at the same place (eg (1 -  x)^2). \n",
    "        This is a more specific case of # 2\n",
    "    4) you need to have a starting domain to look at\n",
    "    5) it only works for a single equation in one variable, so cannot use it to solve \n",
    "        multiple simultaneous equations"
   ]
  },
  {
   "cell_type": "markdown",
   "metadata": {},
   "source": [
    "## Newton's Method\n",
    "\n",
    "Like the binary method we convert to finding root of function f(x). In this method we start with a guess and use the slope to determine another guess. This method require knowing the equation for f'(x).\n",
    "\n",
    "Clearly it is the case that the slope at x is   \n",
    "$f'(x) = \\frac{f(x)}{\\Delta x}$   \n",
    "so our new point x' is given by  \n",
    "$x' = x - \\Delta x = x - \\frac{f(x)}{f'(x)}$\n",
    "\n",
    "If we let $x^*$ represent the actual answer and x represent our guess then using the tylor series expansion again we can find that   \n",
    "$x^* \\approx x' - \\frac{1}{2} (x^* - x)^2 \\frac{f''(x)}{f'(x)}$\n",
    "\n",
    "Defining the error $\\epsilon$ on our first estimate x of the root by $x^* = x + \\epsilon$, and similiarly the error on the next estimate x' by $x* = x' + \\epsilon'$ then   \n",
    "$\\epsilon' = \\big [ \\frac{-f''(x)}{2f'(x)} \\big ] \\epsilon^2$\n",
    "\n",
    "This shows that the Newton's method converges quadratically, thus faster than the Binary and Relaxation method.\n",
    "\n",
    "Assuming that $c = -f'''(x)/2f'(x)$ is roughly constant near the root then the error $\\epsilon$ after N iterations is approximatly (given the error on the initial guess as $\\epsilon_o$)   \n",
    "$\\epsilon \\approx (x\\epsilon_o)^{2^N}/c$\n",
    "\n",
    "$x' - x \\approx \\epsilon$\n",
    "\n",
    "So f $\\epsilon$ is small enough our erro on the value x is the change from x' to x from one iteration to the next. This gives the error on the old estimate of x, not the current one.\n",
    "\n",
    "The two main disadvantages are\n",
    "\n",
    "    1) you need to know equation for f'(x) (but you could use approximation method for this)\n",
    "    2) if f'(x) is very small then this method may not converge. inflection points that aren't roots also result in this problem"
   ]
  },
  {
   "cell_type": "code",
   "execution_count": 1,
   "metadata": {},
   "outputs": [
    {
     "data": {
      "image/png": "[encoded data removed]",
      "text/plain": [
       "<matplotlib.figure.Figure at 0x2779c0e0d68>"
      ]
     },
     "metadata": {},
     "output_type": "display_data"
    }
   ],
   "source": [
    "#example 6.3\n",
    "%matplotlib inline\n",
    "\n",
    "from math import tanh, cosh\n",
    "from numpy import linspace\n",
    "from pylab import plot, show, ylim, xlabel, ylabel\n",
    "\n",
    "#Constants\n",
    "Tmax =2.0\n",
    "points = 1000\n",
    "accuracy = 1e-6\n",
    "\n",
    "#set up lists for plotting\n",
    "y = []\n",
    "temp = linspace (0.01, Tmax, points)\n",
    "\n",
    "#Temperature loop\n",
    "for T in temp:\n",
    "    m1 = 1.0\n",
    "    error = 1.0\n",
    "    \n",
    "    #loop until error is small enough\n",
    "    while error > accuracy:\n",
    "        m1, m2 = tanh (m1 / T), m1\n",
    "        error = abs ((m1 - m2) / (1 - T * cosh (m1 / T)**2))\n",
    "    y.append (m1)\n",
    "\n",
    "# Make the graph\n",
    "plot (temp, y)\n",
    "ylim (-0.1, 1.1)\n",
    "xlabel (\"Temperature\")\n",
    "ylabel (\"Magnetization\")\n",
    "show ()\n"
   ]
  },
  {
   "cell_type": "code",
   "execution_count": null,
   "metadata": {
    "collapsed": true
   },
   "outputs": [],
   "source": []
  }
 ],
 "metadata": {
  "kernelspec": {
   "display_name": "Python 3",
   "language": "python",
   "name": "python3"
  },
  "language_info": {
   "codemirror_mode": {
    "name": "ipython",
    "version": 3
   },
   "file_extension": ".py",
   "mimetype": "text/x-python",
   "name": "python",
   "nbconvert_exporter": "python",
   "pygments_lexer": "ipython3",
   "version": "3.6.3"
  }
 },
 "nbformat": 4,
 "nbformat_minor": 2
}
