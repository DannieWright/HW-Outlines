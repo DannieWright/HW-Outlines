{
 "cells": [
  {
   "cell_type": "markdown",
   "metadata": {},
   "source": [
    "## Commit Messages\n",
    "\n",
    "    1) Separate subject from body with a blank line\n",
    "    2) Limit the subject line to 50 characters\n",
    "    3) Capitalize the subject line\n",
    "    4) Do not end the subject line with a period\n",
    "    5) Use the imperative mood in the subject line\n",
    "    6) Wrap the body at 72 characters\n",
    "    7) Use the body to explain what and why vs. how\n",
    "    \n",
    "A properly formed Git commit subject line should always be able to complete the following sentence:  \n",
    "If applied, this commit will your subject line here\n",
    "\n",
    "Remember: Use of the imperative is important only in the subject line. You can relax this restriction when you’re writing the body.\n",
    "\n",
    "Good: If applied, this commit will refactor subsystem X for readability  \n",
    "Bad : If applied, this commit will fixed bug with Y\n",
    "\n",
    "\n",
    "$ git log  \n",
    "Prints out the author, date, and the entire commit message. This is done for all commits and is ordered by most recent to least recent.\n",
    "\n",
    "$ git shortlog  \n",
    "Prints out subject line of commits broken up into three sections.\n",
    "\n",
    "$ git blame  \n",
    "Prints out the manpage for the blame command.\n"
   ]
  },
  {
   "cell_type": "code",
   "execution_count": null,
   "metadata": {
    "collapsed": true
   },
   "outputs": [],
   "source": []
  }
 ],
 "metadata": {
  "kernelspec": {
   "display_name": "Python 3",
   "language": "python",
   "name": "python3"
  },
  "language_info": {
   "codemirror_mode": {
    "name": "ipython",
    "version": 3
   },
   "file_extension": ".py",
   "mimetype": "text/x-python",
   "name": "python",
   "nbconvert_exporter": "python",
   "pygments_lexer": "ipython3",
   "version": "3.6.3"
  }
 },
 "nbformat": 4,
 "nbformat_minor": 2
}
