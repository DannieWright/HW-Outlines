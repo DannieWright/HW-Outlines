{
 "cells": [
  {
   "cell_type": "markdown",
   "metadata": {
    "collapsed": true
   },
   "source": [
    "## 4.3\n",
    "\n",
    "Program speed is important.\n",
    "\n",
    "A way to check the time it takes for function call to run is using %time function()\n",
    "\n",
    "%time falls under one of Jupyter's magics. You can find out a full list by running %lsmagic in a cell\n",
    "\n",
    "use '!' to run bash commands"
   ]
  },
  {
   "cell_type": "markdown",
   "metadata": {},
   "source": [
    "#### Example 4.2"
   ]
  },
  {
   "cell_type": "code",
   "execution_count": 39,
   "metadata": {
    "collapsed": true
   },
   "outputs": [],
   "source": [
    "from math import exp\n",
    "\n",
    "def example42 (terms):\n",
    "    \n",
    "    beta = 1/100\n",
    "    S = 0.0\n",
    "    Z = 0.0\n",
    "    for n in range (terms):\n",
    "        E = n + 0.5\n",
    "        weight = exp (-beta * E)\n",
    "        S += weight * E\n",
    "        Z += weight\n",
    "\n",
    "    print (S/Z)"
   ]
  },
  {
   "cell_type": "code",
   "execution_count": 40,
   "metadata": {},
   "outputs": [
    {
     "name": "stdout",
     "output_type": "stream",
     "text": [
      "99.95543134093475\n",
      "Wall time: 0 ns\n",
      "100.00083333194436\n",
      "Wall time: 279 ms\n",
      "100.00083333194436\n",
      "Wall time: 28.1 s\n"
     ]
    }
   ],
   "source": [
    "%time example42 (1000)\n",
    "%time example42 (1000000)\n",
    "%time example42 (100000000)"
   ]
  },
  {
   "cell_type": "markdown",
   "metadata": {},
   "source": [
    "I cannot remember a lot about the quantum harmonic oscillator. I would like to have it explain more in a physical sense, I am not really sure how to visualize it. I would love an explanation as to its importance, the formula's derivation, and I would like to understand the base states of the oscillator. I understand the base states of the simple harmonic oscillator but I do not understand them for the quantum harmonic oscillator."
   ]
  },
  {
   "cell_type": "markdown",
   "metadata": {},
   "source": [
    "#### Example 4.3"
   ]
  },
  {
   "cell_type": "code",
   "execution_count": 41,
   "metadata": {},
   "outputs": [
    {
     "name": "stdout",
     "output_type": "stream",
     "text": [
      "Done\n"
     ]
    }
   ],
   "source": [
    "from numpy import zeros\n",
    "\n",
    "N = 100\n",
    "A = zeros ([N, N], float)\n",
    "B = zeros ([N, N], float)\n",
    "C = zeros ([N, N], float)\n",
    "\n",
    "for i in range (N):\n",
    "    for j in range (N):\n",
    "        for k in range (N):\n",
    "            A[i, j] = j * k * i\n",
    "            B[i, j] = j / (k + i + 1)\n",
    "            C[i, j] += A[i, k] * B[k, j]\n",
    "\n",
    "print (\"Done\")"
   ]
  },
  {
   "cell_type": "markdown",
   "metadata": {},
   "source": [
    "I am not entirely sure if you wanted us to run it with N = 1000, but after running it for a while I figured I needed to move on."
   ]
  },
  {
   "cell_type": "markdown",
   "metadata": {},
   "source": [
    "## Exercise 4.2"
   ]
  },
  {
   "cell_type": "code",
   "execution_count": 42,
   "metadata": {
    "collapsed": true
   },
   "outputs": [],
   "source": [
    "import numpy as np\n",
    "\n",
    "def calcRoot (a, b, c):\n",
    "    x1 = (-b + np.sqrt (b**2 - 4 * a * c)) / (2 * a)\n",
    "    x2 = (-b - np.sqrt (b**2 - 4 * a * c)) / (2 * a)\n",
    "    return x1, x2"
   ]
  },
  {
   "cell_type": "code",
   "execution_count": 43,
   "metadata": {},
   "outputs": [
    {
     "name": "stdout",
     "output_type": "stream",
     "text": [
      "(-9.999894245993346e-07, -999999.99999899999)\n"
     ]
    }
   ],
   "source": [
    "print (calcRoot (0.001, 1000, 0.001))"
   ]
  },
  {
   "cell_type": "markdown",
   "metadata": {},
   "source": [
    "$\\frac{-b \\pm \\sqrt{b^2 - 4ac}}{2a} * \\frac{-b \\mp \\sqrt{b^2 - 4ac}}{-b \\mp \\sqrt{b^2 - 4ac}}\n",
    " = \\frac{b^2 - b^2 + 2c}{-b - \\sqrt{b^2 - 4ac}} = \\frac{2c}{-b - \\sqrt{b^2 - 4ac}}$"
   ]
  },
  {
   "cell_type": "code",
   "execution_count": 44,
   "metadata": {
    "collapsed": true
   },
   "outputs": [],
   "source": [
    "def calcRootAlt (a, b, c):\n",
    "    x1 = (2 * c) / (-b - np.sqrt (b**2 - 4 * a * c))\n",
    "    x2 = (2 * c) / (-b + np.sqrt (b**2 - 4 * a * c))\n",
    "    return x1, x2"
   ]
  },
  {
   "cell_type": "code",
   "execution_count": 45,
   "metadata": {},
   "outputs": [
    {
     "name": "stdout",
     "output_type": "stream",
     "text": [
      "(-9.999894245993346e-07, -999999.99999899999)\n",
      "(-1.0000000000010001e-06, -1000010.5755125057)\n"
     ]
    }
   ],
   "source": [
    "print (calcRoot (0.001, 1000, 0.001))\n",
    "print (calcRootAlt (0.001, 1000, 0.001))"
   ]
  },
  {
   "cell_type": "markdown",
   "metadata": {},
   "source": [
    "The variation is likely a cause of the rounding error made by python. The difference is having 2a on the bottom versus 2c on the top, which is why the variation swaps from being below 1e-6 and 1000000 to above these values."
   ]
  },
  {
   "cell_type": "markdown",
   "metadata": {},
   "source": [
    "## Exercise 4.3"
   ]
  },
  {
   "cell_type": "code",
   "execution_count": 46,
   "metadata": {},
   "outputs": [],
   "source": [
    "def f (x):\n",
    "    return x * (x - 1)\n",
    "\n",
    "def derivative (func, xNot, delta):\n",
    "    return ((func (xNot + delta) - func (xNot)) / delta)\n"
   ]
  },
  {
   "cell_type": "code",
   "execution_count": 47,
   "metadata": {},
   "outputs": [
    {
     "name": "stdout",
     "output_type": "stream",
     "text": [
      "1.010000000000001\n"
     ]
    }
   ],
   "source": [
    "print (derivative (f, 1, 1e-2))"
   ]
  },
  {
   "cell_type": "markdown",
   "metadata": {},
   "source": [
    "This value is fairly close to the correct value of 1. They do not agree because we are evaluating at a specific value for delta, not taking a limit."
   ]
  },
  {
   "cell_type": "code",
   "execution_count": 48,
   "metadata": {},
   "outputs": [
    {
     "name": "stdout",
     "output_type": "stream",
     "text": [
      "1.0000999999998899\n",
      "1.0000009999177333\n",
      "1.0000000039225287\n",
      "1.000000082840371\n",
      "1.0000889005833413\n",
      "0.9992007221626509\n"
     ]
    }
   ],
   "source": [
    "print (derivative (f, 1, 1e-4))\n",
    "print (derivative (f, 1, 1e-6))\n",
    "print (derivative (f, 1, 1e-8))\n",
    "print (derivative (f, 1, 1e-10))\n",
    "print (derivative (f, 1, 1e-12))\n",
    "print (derivative (f, 1, 1e-14))\n"
   ]
  },
  {
   "cell_type": "markdown",
   "metadata": {},
   "source": [
    "The reason the values get closer then further away because this is an approximation. As delta decreases it will \n",
    "eventually get arbitrarily close to the derivative value."
   ]
  },
  {
   "cell_type": "code",
   "execution_count": null,
   "metadata": {
    "collapsed": true
   },
   "outputs": [],
   "source": []
  }
 ],
 "metadata": {
  "kernelspec": {
   "display_name": "Python 3",
   "language": "python",
   "name": "python3"
  },
  "language_info": {
   "codemirror_mode": {
    "name": "ipython",
    "version": 3
   },
   "file_extension": ".py",
   "mimetype": "text/x-python",
   "name": "python",
   "nbconvert_exporter": "python",
   "pygments_lexer": "ipython3",
   "version": "3.6.3"
  }
 },
 "nbformat": 4,
 "nbformat_minor": 2
}
