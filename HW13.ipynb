{
 "cells": [
  {
   "cell_type": "markdown",
   "metadata": {},
   "source": [
    "# 5.4\n",
    "\n",
    "Define:\n",
    "\n",
    "$R_{i,1}=I_i$\n",
    "\n",
    "$R_{i,2} = I_i + \\frac{1}{3} (I_i - I_{i-1})=R_{i,1} + \\frac{1}{3} (R_{i,1} - R_{i - 1,1})$\n",
    "\n",
    "Then since the leading-order error on the trapezoidal rule at the i-th step of the adaptive method is\n",
    "\n",
    "$I = I_i + \\frac{1}{3} (I_i - I_{i - 1}) + O(h_i^4)$\n",
    "\n",
    "we can say\n",
    "\n",
    "$I = R_{i, 2} + c_2h_i^4 + O(h^6_i)$\n",
    "\n",
    "for some constant 'c'.\n",
    "\n",
    "For some $c_2$ and taking into account the series for I contains only even powers of $h_i$\n",
    "\n",
    "$I = R_{i-1,2} + c_2h^4_{i-1} + O(h^6_{i-1}) = R_{i-1,2} + 16c_2h^4_i + O(h^6_i)$\n",
    "\n",
    "Since both the equations give expressions for I we can rearange and resubstitue giving\n",
    "\n",
    "$I = R_{i,2} + \\frac{1}{15} (R_{i,2}- R_{i-1,2}) + O(h_i^6)$\n",
    "\n",
    "This eliminated the $h_i^4$ term and generated an estimate accurate to fifth order with a sixth-order error. Continuing this for an estimate calculated at the i-th round of the doubling procedure (represented as $R_{i,m}$) and accurate to order $h^{2m - 1}$ with an error of order $h^{2m}$, then repeating what we did above we can get\n",
    "\n",
    "$I = R_{i, m+1} + O(h_i^{2m + 2})$\n",
    "\n",
    "with\n",
    "\n",
    "$R_{i, m+1} = R_{i,m} + \\frac{1}{4^m - 1} (R_{i,m} - R_{i-1,m})$\n",
    "\n",
    "which is accute to order $h^{2m+1}$ with an error of order $h^{2m+2}$.\n",
    "\n",
    "To make use of this we can do:\n",
    "\n",
    "1) Calculate our first two estimates using the regular trapezoidal rule: $I_1 \\equiv R_{1,1}$ and $I_2 \\equiv R_{2,1}$  \n",
    "2) Use these to calc more accurate $R_{2,2}$  \n",
    "3) Then calc the next trapezoidal rule estimate $I_3 \\equiv R_{3,1}$ to calc $R_{3,2}$ and $R_{3,3}$  \n",
    "4) At each stage we compute one more trapezoidal rule estimate $I_i \\equiv R_{i,1}$ and $R_{i,2} \\dots R_{i,i}$  \n",
    "5) From each estimate we cal the error and compare it to the desire error"
   ]
  },
  {
   "cell_type": "code",
   "execution_count": null,
   "metadata": {
    "collapsed": true
   },
   "outputs": [],
   "source": []
  }
 ],
 "metadata": {
  "kernelspec": {
   "display_name": "Python 3",
   "language": "python",
   "name": "python3"
  },
  "language_info": {
   "codemirror_mode": {
    "name": "ipython",
    "version": 3
   },
   "file_extension": ".py",
   "mimetype": "text/x-python",
   "name": "python",
   "nbconvert_exporter": "python",
   "pygments_lexer": "ipython3",
   "version": "3.6.3"
  }
 },
 "nbformat": 4,
 "nbformat_minor": 2
}
