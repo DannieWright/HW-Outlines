{
 "cells": [
  {
   "cell_type": "markdown",
   "metadata": {},
   "source": [
    "6.1.4 - 6.1.6\n",
    "## 6.1.4\n",
    "\n",
    "LU Decomposition:\n",
    "\n",
    "It would be wasteful to perform Gaussian elimination if all we changed was the $v$-value, so can just save info we did to solve for $A$ being in upper triangle form.\n",
    "\n",
    "Save the steps in matrix form and denote each step by $L_n$, then we know we can solve for our $x$-values with\n",
    "\n",
    "$L_n L_{n - 1} \\dots L_1 L_0 A x = L_n L_{n - 1} \\dots L_1 L_0 v$\n",
    "\n",
    "A simpler way to do this is by defining\n",
    "\n",
    "$L = L^1_n L^1_{n - 1} \\dots L^1_1 L^1_0$\n",
    "\n",
    "and\n",
    "\n",
    "$U = L_n L_{n - 1} \\dots L_1 L_0 A$\n",
    "\n",
    "Then\n",
    "\n",
    "$LU = A$\n",
    "\n",
    "so\n",
    "\n",
    "$LUx = v$\n",
    "\n",
    "This gives us $L$ as a matrix in lower triangle form whose columns from 0 - n is made from the columns from 0 - n of the $L^-1$ matrices.\n",
    "\n",
    "We can define a new matrix from our equation of $LUx = v$ as $y$ in the form\n",
    "\n",
    "$ux = y$\n",
    "\n",
    "which is an n x 1 matrix.\n",
    "\n",
    "Then we have\n",
    "\n",
    "$Ly=v$\n",
    "\n",
    "where each $y$ row value is given by\n",
    "\n",
    "$y_o = \\frac{v_0}{l_{00}}$  \n",
    "$y_1 = \\frac{v_1 - l_{10} y_0}{l_{11}}$  \n",
    "$y_2 = \\frac{v_2 - l_{20} y_0 - l_{21} y_1}{l_{22}}$\n",
    "\n",
    "and so on.\n",
    "\n",
    "\n",
    "Of course you can use 'solve' in 'numpy.linalg' for this, so no need to write that code, right?\n",
    "\n"
   ]
  },
  {
   "cell_type": "markdown",
   "metadata": {},
   "source": [
    "## 6.1.5\n",
    "\n",
    "To solve for the inverse of a matrix we would change the equation we are looking at, instead of $x$ and $v$ being single column vectors, we make them n x n, and then if we swap $v$ out with an n x n identity matrix, $x$ is by definition $A^{-1}$. So we would just have to solve that, or use 'inv' from 'numpy.linalg'."
   ]
  },
  {
   "cell_type": "markdown",
   "metadata": {},
   "source": [
    "## 6.1.6\n",
    "\n",
    "In the case of the tridiagonal matrix, all but the diagonal and the immediate values to are zero. This means we do not need to do the full Gaussian elimination, but just do a subtraction from the row immediatly below the one in question.\n",
    "\n",
    "The banded case is similiar, and is just more values from the diagnol that are non-zero."
   ]
  }
 ],
 "metadata": {
  "kernelspec": {
   "display_name": "Python 3",
   "language": "python",
   "name": "python3"
  },
  "language_info": {
   "codemirror_mode": {
    "name": "ipython",
    "version": 3
   },
   "file_extension": ".py",
   "mimetype": "text/x-python",
   "name": "python",
   "nbconvert_exporter": "python",
   "pygments_lexer": "ipython3",
   "version": "3.6.3"
  }
 },
 "nbformat": 4,
 "nbformat_minor": 2
}
