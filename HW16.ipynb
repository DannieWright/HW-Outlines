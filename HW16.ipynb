{
 "cells": [
  {
   "cell_type": "markdown",
   "metadata": {},
   "source": [
    "## 5.6\n",
    "\n",
    "If we have nonuniform set of N points $x_k$ we will want to use\n",
    "\n",
    "$\\phi_k (x) = \\Pi_{m=1..N \\ m \\neq k} \\frac{(x - x_m)}{(x_k - x_m)}$\n",
    "\n",
    "gives us a polynomial of N - 1 degree.\n",
    "\n",
    "Resulting in\n",
    "\n",
    "$\\int^b_a f(x) dx \\approx \\int^b_a \\sum^N_{k=1} f(x_k) \\ \\phi_k(x) \\ dx = \\sum^N_{k=1} f(x_k) \\int^b_a \\ \\phi_k(x) \\ dx$\n",
    "\n",
    "which tells us the integral part are our weight values.\n",
    "\n",
    "To swap to general x=a to x=b domain instead of -1 to 1,\n",
    "\n",
    "$x_k' = \\frac{1}{2} (b-a)x_k + \\frac{1}{2} (b+a)$\n",
    "\n",
    "$w_k' = \\frac{1}{2} (b-a)w_k$\n",
    "\n",
    "To rescale for 2n-1\n",
    "\n",
    "$w_k = \\big [ \\frac{2}{(1-x^2)} \\big ( \\frac{dP_N}{dx} \\big )^{-2} \\big ]_{x=x_k}$\n",
    "\n",
    "\n",
    "## 5.9\n",
    "\n",
    "Multiple integrals, do one, then the other.\n",
    "\n",
    "$I = \\int^a_b \\int^c_d f(x, y) \\ dx \\ dy$\n",
    "\n",
    "$I \\approx \\sum^N_{i=1} \\sum^N_{j=1} w_i w_j \\ f(x_i, y_j)$"
   ]
  },
  {
   "cell_type": "code",
   "execution_count": null,
   "metadata": {
    "collapsed": true
   },
   "outputs": [],
   "source": []
  }
 ],
 "metadata": {
  "kernelspec": {
   "display_name": "Python 3",
   "language": "python",
   "name": "python3"
  },
  "language_info": {
   "codemirror_mode": {
    "name": "ipython",
    "version": 3
   },
   "file_extension": ".py",
   "mimetype": "text/x-python",
   "name": "python",
   "nbconvert_exporter": "python",
   "pygments_lexer": "ipython3",
   "version": "3.6.3"
  }
 },
 "nbformat": 4,
 "nbformat_minor": 2
}
