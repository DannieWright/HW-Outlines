{
 "cells": [
  {
   "cell_type": "markdown",
   "metadata": {},
   "source": [
    "## 6.1.1\n",
    "\n",
    "One way to solve simultaneous linear equations is to use\n",
    "\n",
    "$Ax = v$  \n",
    "$x = A^{-1}v$\n",
    "\n",
    "where A is n x n and x and v are n x 1 matrices.\n",
    "\n",
    "But that's tuff, and there are better ways.\n",
    "\n",
    "Linear Algebra Rules:  \n",
    "\n",
    "    1) we can multiply $A$ and $v$ by the same scalar and the solution is still the same  \n",
    "    2) any linear combination of two rows remains the same solution\n",
    "\n",
    "\n",
    "Gaussian Elimination:\n",
    "\n",
    "    1) divide first row by first row's first column value\n",
    "    2) use multiples of this row to set all first columns (other than the first row) equal to zero\n",
    "    3) repeat (1) with second row and second column\n",
    "    4) repeat (2) with second row\n",
    "    5) continue like this with each row\n",
    "\n",
    "We can then use this matrix that is in upper triangle form to solve for the $x$-values via backsubstitution.\n",
    "\n"
   ]
  },
  {
   "cell_type": "code",
   "execution_count": 1,
   "metadata": {},
   "outputs": [
    {
     "name": "stdout",
     "output_type": "stream",
     "text": [
      "[ 2. -1. -2.  1.]\n"
     ]
    }
   ],
   "source": [
    "#example 6.1\n",
    "\n",
    "from numpy import array, empty\n",
    "\n",
    "A = array ([[ 2,  1,  4,  1],\n",
    "            [ 3,  4, -1, -1],\n",
    "            [ 1, -4,  1,  5],\n",
    "            [ 2, -2,  1,  3]], float)\n",
    "v = array ([-4, 3, 9, 7], float)\n",
    "N = len (v)\n",
    "\n",
    "for m in range (N):\n",
    "    div = A[m,m]\n",
    "    A[m,:] /= div\n",
    "    v[m] /= div\n",
    "    \n",
    "    for i in range (m + 1, N):\n",
    "        mult = A[i,m]\n",
    "        A[i,:] -= mult * A[m,:]\n",
    "        v[i] -= mult*v[m]\n",
    "        \n",
    "    x = empty (N, float)\n",
    "    for m in range (N - 1, -1, -1):\n",
    "        x[m] = v[m]\n",
    "        for i in range (m + 1, N):\n",
    "            x[m] -= A[m,i] * x[i]\n",
    "            \n",
    "print (x)"
   ]
  },
  {
   "cell_type": "markdown",
   "metadata": {},
   "source": [
    "## 6.1.3\n",
    "\n",
    "If the element in the row we are trying to divide by is zero: do not divide by zero, that is naughty.\n",
    "Pivot, swap the row with another."
   ]
  },
  {
   "cell_type": "code",
   "execution_count": 2,
   "metadata": {},
   "outputs": [
    {
     "name": "stdout",
     "output_type": "stream",
     "text": [
      "[ 2. -1. -2.  1.]\n"
     ]
    }
   ],
   "source": [
    "from numpy import array, empty\n",
    "\n",
    "def gaussianElimination (matrixA, matrixSolution):\n",
    "    N = len (v)\n",
    "\n",
    "    for m in range (N):\n",
    "        div = A[m,m]\n",
    "        A[m,:] /= div\n",
    "        v[m] /= div\n",
    "\n",
    "        for i in range (m + 1, N):\n",
    "            mult = A[i,m]\n",
    "            A[i,:] -= mult * A[m,:]\n",
    "            v[i] -= mult*v[m]\n",
    "\n",
    "        x = empty (N, float)\n",
    "        for m in range (N - 1, -1, -1):\n",
    "            x[m] = v[m]\n",
    "            for i in range (m + 1, N):\n",
    "                x[m] -= A[m,i] * x[i]\n",
    "    \n",
    "    return x\n",
    "\n",
    "print (gaussianElimination (A, v))"
   ]
  },
  {
   "cell_type": "code",
   "execution_count": null,
   "metadata": {
    "collapsed": true
   },
   "outputs": [],
   "source": []
  }
 ],
 "metadata": {
  "kernelspec": {
   "display_name": "Python 3",
   "language": "python",
   "name": "python3"
  },
  "language_info": {
   "codemirror_mode": {
    "name": "ipython",
    "version": 3
   },
   "file_extension": ".py",
   "mimetype": "text/x-python",
   "name": "python",
   "nbconvert_exporter": "python",
   "pygments_lexer": "ipython3",
   "version": "3.6.3"
  }
 },
 "nbformat": 4,
 "nbformat_minor": 2
}
