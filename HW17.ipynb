{
 "cells": [
  {
   "cell_type": "markdown",
   "metadata": {},
   "source": [
    "## 5.10.2.2\n",
    "\n",
    "The error in a derivative (for these methods) is given by\n",
    "\n",
    "$\\epsilon = \\frac{2C \\ |f(x)|}{h} + \\frac{1}{2}h \\ |f''(x)|$\n",
    "\n",
    "Minimizing this and solving for h gives us the best h value with the least error\n",
    "\n",
    "$h = \\sqrt{4C \\ \\big | \\frac{f(x)}{f''(x)} \\big |}$\n",
    "\n",
    "which means our minimum error is\n",
    "\n",
    "$\\epsilon = h \\ |f''(x)| = \\sqrt{4C \\ |f(x) f''(x)|}$\n",
    "\n",
    "## 5.10.7\n",
    "\n",
    "Noisy data is tuff, but a couple of ways to combat it is:\n",
    "\n",
    "1) increase $h$-value  \n",
    "2) fit a curve and then take the derive of that  \n",
    "3) smooth the function first\n"
   ]
  },
  {
   "cell_type": "code",
   "execution_count": null,
   "metadata": {
    "collapsed": true
   },
   "outputs": [],
   "source": []
  }
 ],
 "metadata": {
  "kernelspec": {
   "display_name": "Python 3",
   "language": "python",
   "name": "python3"
  },
  "language_info": {
   "codemirror_mode": {
    "name": "ipython",
    "version": 3
   },
   "file_extension": ".py",
   "mimetype": "text/x-python",
   "name": "python",
   "nbconvert_exporter": "python",
   "pygments_lexer": "ipython3",
   "version": "3.6.3"
  }
 },
 "nbformat": 4,
 "nbformat_minor": 2
}
