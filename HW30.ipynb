{
 "cells": [
  {
   "cell_type": "markdown",
   "metadata": {},
   "source": [
    "### Format\n",
    "\n",
    "    1) an introduction to a particular topic, \n",
    "    2) hypotheses to be tested, \n",
    "    3) a description of methods, \n",
    "    4) key results, \n",
    "    5) a discussion that ties these results to our broader knowledge of the topic\n",
    "\n",
    "### Research\n",
    "\n",
    "Ask the following questions:\n",
    "\n",
    "    1) What do we know about the topic? \n",
    "    2) What open questions and knowledge do we not yet know? \n",
    "    3) Why is this information important?\n",
    "    \n",
    "### Introduction\n",
    "\n",
    "Open with broad explaination of hypothesis and relevent literature.  \n",
    "Explain method and materials.  \n",
    "State results.\n",
    "Interpret the results, tying it back to literature.  \n",
    "Conclusion and implications."
   ]
  },
  {
   "cell_type": "code",
   "execution_count": null,
   "metadata": {
    "collapsed": true
   },
   "outputs": [],
   "source": []
  }
 ],
 "metadata": {
  "kernelspec": {
   "display_name": "Python 3",
   "language": "python",
   "name": "python3"
  },
  "language_info": {
   "codemirror_mode": {
    "name": "ipython",
    "version": 3
   },
   "file_extension": ".py",
   "mimetype": "text/x-python",
   "name": "python",
   "nbconvert_exporter": "python",
   "pygments_lexer": "ipython3",
   "version": "3.6.3"
  }
 },
 "nbformat": 4,
 "nbformat_minor": 2
}
