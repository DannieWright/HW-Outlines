{
 "cells": [
  {
   "cell_type": "markdown",
   "metadata": {},
   "source": [
    "8.4 Varying the Step Size\n",
    "Skim through Sections 8.5-8.6 (you don't need to take careful notes). Write down a technique you find intriguing, or a problem in the exercises you might consider designing a project around. Explain why this is intriguing.\n",
    "\n"
   ]
  },
  {
   "cell_type": "markdown",
   "metadata": {},
   "source": [
    "## 8.4 Varying Step Size\n",
    "\n",
    "The way we can do the Runge-Kutta method in an adaptive way is to _two_ steps of the solution, each of size _h_, one right after the other. This will get us to the time $t + 2h$. Then we go back to the starting time and do _one_ step to _2h_. This will also get us to the time $t + 2h$. We can then compare these two values (which will usually be close but different) to determine our accuracy of our calculation.\n",
    "\n",
    "The fourth-order Runge-Kutta method is accutate to fourth order and has error to fifth order. So the error on a single step is $ch^5$ where $c$ is some constant. Then if we do two steps we will have an error roughly $2ch^5$. So,\n",
    "\n",
    "$x (t + 2h) = x_1 + 2ch^5$\n",
    "\n",
    "is the relation of our estimated value ($x_1$) to our _true_ value at $x (t + 2h)$. If we just do a single step of twice the length we have a rough error of $c(2h)^5$, so our second estimate ($x_2$) is related to our _true_ value by\n",
    "\n",
    "$x (t + 2h) = x_2 + 32ch^5$\n",
    "\n",
    "So we can get $x_1 = x_2 + 30ch^5$, meaning our pre-step error $\\epsilon = ch^5$ is given by\n",
    "\n",
    "$\\epsilon = \\frac{1}{30} (x_1 - x_2)$\n",
    "\n",
    "We want to make this error equal to a specific target accuracy we have in mind. Denoting the perfect step size as $h'$, then the error on a single step would be\n",
    "\n",
    "$\\epsilon' = ch'^5 = ch^5 \\big (\\frac{h'}{h} \\big )^5 = \\frac{1}{30} (x_1 - x_2) \\big (\\frac{h'}{h} \\big )^5$\n",
    "\n",
    "If $\\delta$ is the target accuracy per unit time, the single step target accuracy would be $h'\\delta$.  We can find that\n",
    "\n",
    "$h' = h \\big ( \\frac{30h\\delta}{|x_1 - x_2|} \\big )^{1/4} = h \\rho^{1/4} \\\\\n",
    "\\rho = \\frac{30h\\delta}{|x_1 - x_2|}$\n",
    "\n",
    "\n",
    "Complete method:\n",
    "    \n",
    "1) Perform two steps of the same size _h_, then from the same starting point, one step of _2h_.  \n",
    "2) Use the results to calculate the ratio of $\\rho$. If $\\rho > 1$ then our accuracy is better than our target. If $\\rho < 1$ we repeat this calculation with a smaller _h_. \n",
    "3) Plug $\\rho$ into our equation for $h'$ to determine the new _h'_ value. \n",
    "\n",
    "Since it is posible for $x_1$ and $x_2$ to agree greatly it is common to put a limit on how much _h_ can increase (common to say it cannot increases by more than a factor of 2).\n",
    "\n",
    "\n",
    "In the case of simultaneous differential equations we have an error for each variable. We can replace $\\frac{1}{30} |x_1 - x_2|$ in the equation for _h'_ with $\\sqrt{\\epsilon_x^2 + \\espilon_y^2}\n",
    "\n",
    "This method takes at least 3 calculations of x per-step and as such can be slow, but it allows for a desired accuracy easily.\n",
    "\n",
    "It is possible to, with no extra work, get an additional order of accuracy, but we cannot know what this accuracy is. So fourth order Runge-Kutta is now accurate to order $h^5$ and has an error of order $h^6$.\n",
    "\n",
    "\n",
    "I found the leapfrog method interesting. This is because of the time-reversal aspect. I think it is interesting that witht his technique we can reverse extrapolate information."
   ]
  },
  {
   "cell_type": "code",
   "execution_count": 3,
   "metadata": {},
   "outputs": [
    {
     "name": "stdout",
     "output_type": "stream",
     "text": [
      "The required initial velocity is 49.04999999999815 m/s\n"
     ]
    }
   ],
   "source": [
    "#example 8.8\n",
    "from numpy import array, arange\n",
    "\n",
    "g = 9.81 #m.s^2\n",
    "a = 0.0 #s, initial time\n",
    "b = 10.0 #s, final time\n",
    "N = 1000 #number of steps\n",
    "h = (b - a) / N #size of steps\n",
    "target = 1e-10 #binary search target accuracy\n",
    "\n",
    "def f (r):\n",
    "    x = r[0]\n",
    "    y = r[1]\n",
    "    fx = y\n",
    "    fy = -g\n",
    "    \n",
    "    return array ([fx, fy], float)\n",
    "\n",
    "#func to solve equ and calc final height\n",
    "def height (v):\n",
    "    r = array ([0, v], float)\n",
    "    \n",
    "    for t in arange (a, b, h):\n",
    "        k1 = h * f (r)\n",
    "        k2 = h * f (r + 0.5 * k1)\n",
    "        k3 = h * f (r + 0.5 * k2)\n",
    "        k4 = h * f (r + k3)\n",
    "        r += (k1 + 2 * k2 + 2 * k3 + k4) / 6\n",
    "        \n",
    "    return r[0]\n",
    "\n",
    "#main prog, performs a binary search\n",
    "v1 = 0.01\n",
    "v2 = 1000.0\n",
    "h1 = height (v1)\n",
    "h2 = height (v2)\n",
    "\n",
    "while abs (h2 - h1) > target:\n",
    "    vp = (v1 + v2) / 2\n",
    "    hp = height (vp)\n",
    "    \n",
    "    if h1 * hp > 0:\n",
    "        v1 = vp\n",
    "        h1 = hp\n",
    "    else:\n",
    "        v2 = vp\n",
    "        h2 = hp\n",
    "        \n",
    "v = (v1 + v2) / 2\n",
    "print (\"The required initial velocity is\", v, \"m/s\")"
   ]
  },
  {
   "cell_type": "code",
   "execution_count": null,
   "metadata": {
    "collapsed": true
   },
   "outputs": [],
   "source": []
  }
 ],
 "metadata": {
  "kernelspec": {
   "display_name": "Python 3",
   "language": "python",
   "name": "python3"
  },
  "language_info": {
   "codemirror_mode": {
    "name": "ipython",
    "version": 3
   },
   "file_extension": ".py",
   "mimetype": "text/x-python",
   "name": "python",
   "nbconvert_exporter": "python",
   "pygments_lexer": "ipython3",
   "version": "3.6.3"
  }
 },
 "nbformat": 4,
 "nbformat_minor": 2
}
