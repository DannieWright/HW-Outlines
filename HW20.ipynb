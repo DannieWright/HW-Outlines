{
 "cells": [
  {
   "cell_type": "markdown",
   "metadata": {},
   "source": [
    "## 6.3 Relaxation Method\n",
    "\n",
    "Solving non-linear systems of equations is difficult. One way to do this is to start with a guess x-value and to iterativly plug the result as the new x-value and hope the function converges to a value. This is called the **relaxation method**. This method requires the form x = f(x). This method only finds one solution, even if the equations might have multiple solutions, and the one obtained is based upon the initial choice of x.\n",
    "\n",
    "The example of $x = e^{1 - x^2}$ cannot be solved using the relaxation method, trying it with an initial x-value near the solution of 1 does not work. If we were to intead rearange the equation to $x = \\sqrt{1 - \\log (x)}$ the relaxation method does work.\n",
    "\n",
    "To see why the rearrangment works we look at the equation x = f(x) with the solution at $x = x^*$. The taylor series expansion of x' is  \n",
    "$x' = f(x) = f(x^*) + (x - x^*)f'(x^*) + ...$  \n",
    "Since $x^*$ is a solution then $x^* = f(x^*)$ so  \n",
    "$x' - x^* = (x - x^*) f'(x^*)$  \n",
    "if we neglect the higher order terms.\n",
    "\n",
    "This tells us at each iteration the distance from the true solution $(x - x^*)$ get multiplied by $f'(x^*)$. So if the absolute value of this factor is greater than one we get further away from the solution, else we get closer to it. \n",
    "\n",
    "So the relaxation method can converge iff  \n",
    "$|f'(x^*)| < 1$\n",
    "\n",
    "Doing a little math (looking at $x = f^{-1}(x)$ instead of $x = f(x)$) we find that if the relaxation method fails from $|f'(x^*)| >= 1$ then it will succeed for $x = f^{-1}(x)$. \n",
    "\n",
    "However, this requires that the equation is invertable. It is the case though that you might get lucky, such as $x = x^2 \\sin(2x)$, the right hand side of which is non invertable. Despite not being able to get a true inverse the equation inverse is enough to work for the relaxation method."
   ]
  },
  {
   "cell_type": "code",
   "execution_count": 1,
   "metadata": {},
   "outputs": [
    {
     "name": "stdout",
     "output_type": "stream",
     "text": [
      "1.6321205588285577\n",
      "1.8044854658474119\n",
      "1.8354408939220457\n",
      "1.8404568553435368\n",
      "1.841255113911434\n",
      "1.8413817828128696\n",
      "1.8414018735357267\n",
      "1.8414050598547234\n",
      "1.8414055651879888\n",
      "1.8414056453310121\n"
     ]
    }
   ],
   "source": [
    "import math\n",
    "\n",
    "x = 1\n",
    "for k in range (10):\n",
    "    x = 2 - math.exp (-x)\n",
    "    print (x)"
   ]
  },
  {
   "cell_type": "markdown",
   "metadata": {},
   "source": [
    "## 6.3.2 Rate of Convergence\n",
    "\n",
    "Letting the true solution $x^*$ is related to the current estimate of x by $x^* = x + \\epsilon$, and similiarly $x^* = x' + \\epsilon'$. Then by $x' - x^* = (x - x^*) f'(x^*)$ close to $x^*$ we have   \n",
    "$\\epsilon' = \\epsilon f'(x^*)$   \n",
    "so   \n",
    "$x^* = x + \\epsilon = x + \\frac{\\epsilon'}{f'(x^*)}$  \n",
    "which can give us\n",
    "\n",
    "$\\epsilon' = \\frac{x -x'}{1 - 1/f'(x^*)} \\approx \\frac{x - x'}{1 - 1/f'(x)}$  \n",
    "The approximation is the result of looking at x close to $x^*$.\n",
    "\n",
    "Since we may not have f(x) to be able to calculate f'(x) we need another method. Suppose we have three successive estimates of x, denoted x, x', and x''. The error for the more recent estimate x'' would then be  \n",
    "$\\epsilon''= \\frac{x - x''}{1 - 1/f'(x^*)} \\approx \\frac{x - x''}{1 - 1/f'(x)}$\n",
    "\n",
    "Then we can approximate f'(x) as   \n",
    "$f'(x) \\approx \\frac{f(x) - f(x')}{x - x'}$  \n",
    "Plugging in our values for f(x) and f(x')  \n",
    "$f'(x) \\approx \\frac{x' - x''}{x - x'}$\n",
    "\n",
    "Plugging this back into our equation for $\\epsilon''$  \n",
    "$\\epsilon'' \\approx \\frac{(x' -x'')^2}{2x' - x - x''}$"
   ]
  },
  {
   "cell_type": "code",
   "execution_count": null,
   "metadata": {
    "collapsed": true
   },
   "outputs": [],
   "source": []
  }
 ],
 "metadata": {
  "kernelspec": {
   "display_name": "Python 3",
   "language": "python",
   "name": "python3"
  },
  "language_info": {
   "codemirror_mode": {
    "name": "ipython",
    "version": 3
   },
   "file_extension": ".py",
   "mimetype": "text/x-python",
   "name": "python",
   "nbconvert_exporter": "python",
   "pygments_lexer": "ipython3",
   "version": "3.6.3"
  }
 },
 "nbformat": 4,
 "nbformat_minor": 2
}
