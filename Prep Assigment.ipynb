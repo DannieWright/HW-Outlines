{
 "cells": [
  {
   "cell_type": "markdown",
   "metadata": {},
   "source": [
    "### How do I verify that numerical results are consistant with a physical model?  \n",
    "We have verified that our numerical results are consistent with physical models in many ways. For calculations of constants we often compared them with the accepted values, noting our percent errors. In certain calculations we would use several techniques or algorithms to perform the same calculation, such as in the case with integration. We often calculated our numerical errors and trying to reduce them.\n",
    "\n",
    "### How do I choose the correct numerical methods to solve my physical problem?  \n",
    "We chose our numerical methods based upon the types of errors we had to worry about (like round-off errors for small values), the numerical methods we had at hand, and our bounding cases. An example of when we had to be specific about some of these choices were with our integration problems. We were often able to calculate the number of sample points that would be required to perform the integration to an accuracy where only rounding error was a problem, and so often times we wanted to choose which integration method had the least number of sampling points required for the same accuracy. This was not the only factor though, because some of the integration methods (like Gaussian quadrature) were best used for specific types of functions (smooth well behaved integrands).\n",
    "\n",
    "### What is version control, and how has using it helped me in this class?\n",
    "Version control is being able to save, store, and access our work throughout the process of coding. We used GitHub to keep remote copies of our work. This helped a ton with being able transfer work between computers, have multiple people managing the same project, being able to submit our work, and role back to previous versions when we messed stuff up. I had a few times were entire sections got deleted for some reason, and it was wonderful to go back to a previous version and obtain my previous work instead of having to restart it.\n",
    "\n",
    "### How have I used computer plots to provide a compelling case?\n",
    "I have mostly used computer plots to show the effects changing variables has in order to verify the physics concepts being demonstrated. By changing the variables I was able to determine if the model changed in the way the physics of the situation described. I was also able to compare a number of problems with work done by others to help ensure my calculations was correct (such as in the case of the fractal we plotted).\n",
    "\n",
    "### What are techniques we have used to optimize performance?\n",
    "#### which data structures are more efficient?\n",
    "Lists versus arrays are a perfect example of data structures that vary in efficiency. Lists are more flexible but this comes at the cost of requiring more resources and computing power to perform the same operation as an array. Technically speaking our work with the double and single precision floating point numbers is another example of this, although to a much less significant degree. Double point floats store more information, so accessing and modifying them do require more computing power than their smaller cousin the single point float.\n",
    "    \n",
    "#### which algorithms run faster?\n",
    "We have had many algorithms of similar design to compare their efficiency. Mainly we have has our various integration approximation methods to compare. The some of the integration methods allow for higher order approximations and as such tend to require fewer sample points which means fewer calculations need to be made. An example of this is the Simpson's method is slower than the trapezoidal method for many cases. Another good example was that we changed our Simpson's integration method to sum both the odd and even terms in the same for-loop instead of breaking it into two for-loops as requested by Newman. We also used lambda functions, which allows for in place function declaration, but requires a lot of overhead that can slow down programs.\n",
    "    \n",
    "#### when have fast algorithms failed us?\n",
    "The problem that involved modeling the force on a point particle about a plate had issues as our distance from the plate was near zero. We also had a problem integrating a semicircle which used the adaptive method. This method relied on checking an error that immediately showed it being within the desired accuracy, even though it was not. These are examples of times when the methods do not always apply given the specific case or at bounding conditions.\n",
    "\n",
    "### How has this class improved your understanding of yourself as a scientist (of whatever kind)?\n",
    "This class has helped me to play, an important part of computational physics. I have also worked on adjusting variables to see how the data varies. I tend to be someone who does the specific task as designed, and this class has left a lot of blank space in the instructions meant to guide me to decide what to test.\n",
    "\n",
    "\n"
   ]
  },
  {
   "cell_type": "code",
   "execution_count": null,
   "metadata": {
    "collapsed": true
   },
   "outputs": [],
   "source": []
  }
 ],
 "metadata": {
  "kernelspec": {
   "display_name": "Python 3",
   "language": "python",
   "name": "python3"
  },
  "language_info": {
   "codemirror_mode": {
    "name": "ipython",
    "version": 3
   },
   "file_extension": ".py",
   "mimetype": "text/x-python",
   "name": "python",
   "nbconvert_exporter": "python",
   "pygments_lexer": "ipython3",
   "version": "3.6.3"
  }
 },
 "nbformat": 4,
 "nbformat_minor": 2
}
