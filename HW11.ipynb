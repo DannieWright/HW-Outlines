{
 "cells": [
  {
   "cell_type": "markdown",
   "metadata": {
    "collapsed": true
   },
   "source": [
    "# 5.2\n",
    "\n",
    "The _Euler-Maclaurin formula_ for the trapezoidal integral approximation method is the approximation error\n",
    "$\\epsilon = \\frac{1}{12} h^2 [f'(a) - f'(b)]$  \n",
    "\n",
    "In addition to the approximation error we have the rounding error which is C times the integral value, with C being $10^{-16}$.\n",
    "\n",
    "Since the approximation error decreases as 'h' decreases we can decrease our error by increasing the number of slices taken (since 'h' is the slice width).\n",
    "\n",
    "Looking at the limit as to when our approximation error is no longer the dominant error we can solve for a good 'h' value:  \n",
    "$h \\approx \\sqrt{\\frac{12 \\int^b_a f(x) \\ dx}{f'(a) - f'(b)} C}$  \n",
    "or since $h = (b - a) / N$:  \n",
    "$N \\approx (b - a) \\sqrt{\\frac{f'(a) - f'(b)}{12 \\ C \\int^b_a f(x) \\ dx}}$\n",
    "\n",
    "Assuming all but C are of order unity, then $N \\approx 10^8$ is the point where we reach the the maximum precision for the machine. Since this is a large value for N it is typically best to use a more precise method like the Simpson's method for better accuracy with a smaller N value."
   ]
  },
  {
   "cell_type": "markdown",
   "metadata": {},
   "source": [
    "The _Euler-Maclaurin formula_ for the Simpson's integral approximation method is the approximation error\n",
    "$\\epsilon = \\frac{1}{90} h^4 [f'''(a) - f'''(b)]$  \n",
    "\n",
    "This results in a precision for N being around  \n",
    "$N \\approx (b - a) \\sqrt[4]{\\frac{f'''(a) - f'''(b)}{90 \\ C \\int^b_a f(x) \\ dx}}$\n",
    "\n",
    "Looking again at a situation where the leading factors are of order unity then N need be only around 10,000."
   ]
  },
  {
   "cell_type": "markdown",
   "metadata": {},
   "source": [
    "In the event of the case we do not know the closed-form expression for the integrand f(x) then if $I$ is the true value of our integral, $h_1 = (b - a) / N_1$, $N_2 = 2N_1$, $h_2=(b-a)/N_2=\\frac{1}{2}h_1$, then  \n",
    "$\\epsilon = \\frac{1}{3} (I_2 - I_1)$  \n",
    "for the trapezoidal approximation.\n",
    "\n",
    "$\\epsilon = \\frac{1}{15} (I_2 - I_1)$  \n",
    "for the Simpson's approximation."
   ]
  },
  {
   "cell_type": "markdown",
   "metadata": {},
   "source": [
    "# 5.3\n",
    "\n",
    "Generalizing the errors to looking at doubling the N-values in each calculation we get  \n",
    "$\\epsilon_1 = \\frac{1}{3} (I_i - I_{i-1})$ (1)  \n",
    "for the ith time doubling N.\n",
    "\n",
    "For the trapezoidal approximation  \n",
    "$I_i = \\frac{1}{2} I_{i-1} + h_i \\sum_{k \\ odd \\ 1 \\dots N_i - 1} f (a + kh_i)$ (2)\n",
    "\n",
    "We can increase our approximation without having to recalculate half of our new points by\n",
    "\n",
    "    1) Choose an initial N. Calculate the first approximation based upon this N.\n",
    "    2) Double the number of steps and use equation (2) to determine an improved estimate of the integral. Then use eqaution (1) to calculate the error.\n",
    "    3) Repeat step 2 until the absolute value of the error is less than the desired value.\n",
    " \n",
    "For the Simpson's approximation we define  \n",
    "$S_i = \\frac{1}{3} \\big [ f(a) + f(b) + 2 \\sum_{k \\ even \\ 2 \\dots N_i - 2} f (a + kh_i) \\big ]$  \n",
    "$T_i = \\frac{2}{3} \\sum_{k \\ odd \\ 1 \\dots N_i - 1} f(a + kh_i)$\n",
    "\n",
    "So  \n",
    "$S_i = S_{i - 1} + T_{i - 1}$  \n",
    "and  \n",
    "I_i = h_i (S_i + 2T_i)$\n",
    "\n",
    "Then to calculate a desired accuracy:\n",
    "\n",
    "    1) Choose initial N, and calculate $S_1$, $T_1$, and $I_1$.  \n",
    "    2) Double N and calculate the new S, T, I, and $\\epsilon$ values.\n",
    "    3) Repeat step 2 until the accuracy is the desire amount."
   ]
  },
  {
   "cell_type": "markdown",
   "metadata": {},
   "source": [
    "## Exercise 5.1"
   ]
  },
  {
   "cell_type": "code",
   "execution_count": 59,
   "metadata": {},
   "outputs": [
    {
     "name": "stdout",
     "output_type": "stream",
     "text": [
      "Total Distance Traveled (by calculation): 8.556232\n",
      "Final position (by distanceTraveled[100]): 8.387578\n"
     ]
    },
    {
     "data": {
      "image/png": "[encoded data removed]",
      "text/plain": [
       "<matplotlib.figure.Figure at 0x93ee5c0>"
      ]
     },
     "metadata": {},
     "output_type": "display_data"
    }
   ],
   "source": [
    "import numpy as np\n",
    "import pylab as plt\n",
    "\n",
    "%matplotlib inline\n",
    "\n",
    "def f(time, velocityValues):\n",
    "    return velocityValues[time]\n",
    "\n",
    "\n",
    "dataSet = np.loadtxt (\"velocities.txt\", float)\n",
    "\n",
    "timeValues  = dataSet[:,0]\n",
    "velocityValues = dataSet[:,1]\n",
    "\n",
    "N = len (timeValues) \n",
    "a = int (timeValues[0])\n",
    "b = int (timeValues[N - 1])\n",
    "h = 1\n",
    "\n",
    "distanceTraveled = []\n",
    "\n",
    "s = 0.5 * f(a, velocityValues) + 0.5 * f(b, velocityValues)\n",
    "distanceTraveled.append (0)\n",
    "\n",
    "for i in range (1, N):\n",
    "    s += f (a + i * h, velocityValues)\n",
    "    distanceTraveled.append (distanceTraveled[i - 1] + velocityValues[i] * h)\n",
    "\n",
    "#final position based upon trapezoidal approximation\n",
    "print (\"Total Distance Traveled (by calculation):\", s)\n",
    "\n",
    "#final position based upon suming relative position with velocity multiplied by time step\n",
    "#print (\"Final position (by distanceTraveled[100]):\", distanceTraveled[100])\n",
    "\n",
    "#graph labels\n",
    "pltTitle = \"Velocity and Distance versus Time\"\n",
    "pltXLabel = \"Time Elapsed (s)\"\n",
    "pltYLabel = \"Velocity (m/s) and Distance (m)\"\n",
    "\n",
    "#graphs the data\n",
    "plt.figure (figsize = (10, 8))\n",
    "plt.plot (timeValues, velocityValues, \"k.\", label = \"Velocity\")\n",
    "plt.plot (timeValues, distanceTraveled, \"g.\", label = \"Distance\")\n",
    "\n",
    "#shows how the calculation for the total distance traveled matches up with the final value of the distanceTraveled data set\n",
    "#plt.plot ([0, 101], [s,s], \"k-\")\n",
    "\n",
    "plt.xlabel (pltXLabel)\n",
    "plt.ylabel (pltYLabel)\n",
    "plt.title (pltTitle)\n",
    "plt.legend ()\n",
    "plt.show ()\n"
   ]
  },
  {
   "cell_type": "markdown",
   "metadata": {},
   "source": [
    "This graph shows an object's velocity (shown in black) and position (shown in green) over time. The objects position is based upon the amount of time that passes and the velocity of the object during that time. In this case we calculate the position of the object based upon the previous position plus the current velocity multiplied by the time between data points (one second). The final value of this distance is fairly close to the value determined by the trapezoidal method being 8.387578m while the trapezoidal approximation was 8.556232m. The trapezoidal integral approximation determined an approximate value for the area under the velocity versus time graph (or the distance traveled). The reason the integral of a velocity versus time graph is the distance is because  \n",
    "$v = \\frac{dx}{dt}$, so  \n",
    "\n",
    "$\\int v \\ dt = \\int dx$ or  \n",
    "\n",
    "$\\int v \\ dt = x$.\n",
    "\n",
    "This means that instead of having to calculate the distance traveled by summing at each step we can instead simply calculate the integral or area under the curve of our velocity versus time graph."
   ]
  },
  {
   "cell_type": "code",
   "execution_count": null,
   "metadata": {
    "collapsed": true
   },
   "outputs": [],
   "source": []
  }
 ],
 "metadata": {
  "kernelspec": {
   "display_name": "Python 3",
   "language": "python",
   "name": "python3"
  },
  "language_info": {
   "codemirror_mode": {
    "name": "ipython",
    "version": 3
   },
   "file_extension": ".py",
   "mimetype": "text/x-python",
   "name": "python",
   "nbconvert_exporter": "python",
   "pygments_lexer": "ipython3",
   "version": "3.6.3"
  }
 },
 "nbformat": 4,
 "nbformat_minor": 2
}
