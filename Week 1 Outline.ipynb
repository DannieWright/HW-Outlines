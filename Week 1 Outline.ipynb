{
 "cells": [
  {
   "cell_type": "markdown",
   "metadata": {},
   "source": [
    "# PHY325 Week 1 Outline  \n",
    "\n",
    "## Getting Started \n",
    "\n",
    "1. __Make a GitHub Account!__  On later assignments, expect to do a lot of commits w/ meaningful commit messages. For now, your Jupyter notebooks will be fairly simple, so just make sure you are saving / submitting your work.  Presumably you've already done this.  If you haven't, follow me [@mcddanielle](https://github.com/mcddanielle) so I can add you to the [@PacU-PHY325](https://github.com/Physics-PacU) \n",
    "\n",
    "0. __Make a Runestone Account:__ For the first few HW assignments, you will work on the PHY325 Interactive Python page, hosted by Runestone Academy page.  To do this:\n",
    "   * Link to  [Interactive Python in Runestone Academy](https://runestone.academy/runestone/static/PHY325/index.html).  You should see a Table of Contents with clickable links.  Make sure you are at the new version of the page.  \n",
    "   * Click the little person icon in the top right of the page, __click on Register__.   I have had some trouble logging into this page because there is an older version that looks identical. Look for a green box with a heading that reads __\"Welcome to the New Home of Runestone Interactive.\"__\n",
    "\n",
    "   * __Enter \"PHY325\" in the Course Name box__ when you register.\n",
    "   \n",
    "2. __Open Anaconda__.  Launch the Jupyter notebook app.\n",
    "\n",
    "## Additional Resources:\n",
    " \n",
    "   * [Markdown tutorial](https://www.markdowntutorial.com)\n",
    "   * [GitHub tutorial](https://help.github.com/articles/git-and-github-learning-resources/)\n",
    "   \n",
    "   \n",
    "## A General introduction to HW \n",
    "### Exercises/Reading Notes/interactive practice - also described in the Complete Syllabus\n",
    "\n",
    "1.  Fork the assignment to your own directory on GitHub.  No versions necessary, unless you want to make a branch for your own version control (often a good idea for HW Exercises if you want to change something).  \n",
    "\n",
    "2.  Remember to submit each assignment by the deadline by pushing your work to GitHub and opening a pull request.  See the short syllabus for the total workflow.\n",
    "\n",
    "3.  The reading comes from two sources\n",
    "    * __Computational Physics__ _Revised and Expanded_ by *Mark Newman.* [PDF copies Ch 2-5](http://www-personal.umich.edu/~mejn/cp/chapters.html).    \n",
    "      I believe the linked PDF's are from the 1st edition, which uses Python2, \n",
    "      so expect some differences.\n",
    "           \n",
    "    * __How to Think Like a Computer Scientist: Interactive Edition__  [registration link](https://runestone.academy/runestone/default/user/register).   \n",
    "      This interactive offers a more basic and complete introduction to coding.\n",
    "      Even if you've coded before, this offers some vocabulary and perspective you may find useful.      \n",
    "    \n",
    "4.  For each day, your notebook will have generally have work that falls in three categories. \n",
    "    1.  Exercises\n",
    "    2.  Reading Notes\n",
    "    3.  Interactive Practice \n",
    "    \n",
    "    This week we will be using Interactive Python to get started, so the Exercises/Interative Practice will run together.\n",
    "    \n",
    "5.  Add cells to the Jupyter Notebook as needed to answer the questions, using a combintation of Markdown cells and Python cells.  Be sure to include comments explaining the Python portions of your code (either with the # or a Markdown cell as appropriate).\n",
    "\n"
   ]
  },
  {
   "cell_type": "markdown",
   "metadata": {},
   "source": [
    "## Assignment List \n",
    "\n",
    "### Due Monday Jan 29, 2018, at 9:15AM \n",
    "   \n",
    "You should have answered a few questions on your computing background via email and made a GitHub account.\n",
    "    \n",
    "### HW1: Due Wednesday Jan 31, 2018, at 9:15AM \n",
    "\n",
    "See file linked on GitHub called [HW1](HW-Outlines/https://github.com/Physics-PacU/HW-Outlines/blob/master/HW1.ipynb) \n",
    "\n",
    "### HW 2: Due Thursday Feb 1, 2018, at 1:00PM \n",
    "\n",
    "See the file linked on GitHub called HW2 (coming soon) - normally you will have a pre-lab due, but we will start slow this week.\n",
    "\n",
    "### Lab 1: Due Thursday Feb 1, 2018 at 6:00PM\n",
    "\n",
    "Turtle lab via Runestone\n",
    "\n",
    "### HW3: Due Friday Feb 2, 2018, at 9:15AM \n",
    "\n",
    "See the file linked on GitHub called HW3 (coming soon)\n",
    "\n",
    "\n"
   ]
  },
  {
   "cell_type": "code",
   "execution_count": null,
   "metadata": {
    "collapsed": true
   },
   "outputs": [],
   "source": []
  }
 ],
 "metadata": {
  "kernelspec": {
   "display_name": "Python 3",
   "language": "python",
   "name": "python3"
  },
  "language_info": {
   "codemirror_mode": {
    "name": "ipython",
    "version": 3
   },
   "file_extension": ".py",
   "mimetype": "text/x-python",
   "name": "python",
   "nbconvert_exporter": "python",
   "pygments_lexer": "ipython3",
   "version": "3.6.3"
  }
 },
 "nbformat": 4,
 "nbformat_minor": 2
}
