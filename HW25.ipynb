{
 "cells": [
  {
   "cell_type": "markdown",
   "metadata": {},
   "source": [
    "Computer science is really theoretical physics because it is building models. You still need to do experiments to test the created models, else you basically have a video game."
   ]
  },
  {
   "cell_type": "markdown",
   "metadata": {},
   "source": [
    "## 12 Steps\n",
    "    1) Use version control\n",
    "    2) Put your code in the cloud, in the open\n",
    "    3) Add a README and a License\n",
    "    4) Write docstrings\n",
    "    5) Write tests\n",
    "    6) Keep track of issues\n",
    "    7) Automate the tests\n",
    "    8) Automate the build (coming soon)\n",
    "    9) Use continuous integration (coming soon)\n",
    "    10) Monitor test coverage (coming soon)\n",
    "    11) Write narrative documentation (coming soon)\n",
    "    12) Catch errors as you type them (coming soon)\n",
    "    \n",
    "    \n",
    "### 1)\n",
    "Make a local repository.\n",
    "\n",
    "### 2)\n",
    "Connect the local repository to GitHub.\n",
    "\n",
    "### 3)\n",
    "README should have\n",
    "\n",
    "    1) a brief description of what your code does;\n",
    "    2) instructions for installing your code;\n",
    "    3) what other code needs to be installed for it to work;\n",
    "    4) one or two examples of how to invoke your code;\n",
    "    5) optionally: who wrote the code, how to cite it, and who to contact for help. One good example of a README file is here.\n",
    "    \n",
    "LICENSE.txt, pick a pre-existing one\n",
    "\n",
    "### 4)\n",
    "Write docstrings, be sure to have usage\n",
    "\n",
    "    Examples:\n",
    "    >>> square(5)\n",
    "    25\n",
    "    >>> square(2)\n",
    "    4\n",
    "    \n",
    "\n",
    "### 5)\n",
    "Type the following in the command line to test the examples in the function docstrings\n",
    "\n",
    "    python -m doctest -v my_file.py\n",
    "    \n",
    "### 6)\n",
    "Raise an issue on GitHub if there is an issue/potential feature/improvement you want in your code that you'll come back to later.\n",
    "\n",
    "### 7)\n",
    "Can use Nose to autorun test cases\n",
    "\n",
    "if not installed do \"pip install nose\"\n",
    "\n",
    "    1) First, go to your project directory and type nosetests --with-doctest. The nose executable is named “nosetests” and the option --with-doctest tells it to also run any doctests it finds. You should get a message saying that some number of tests were run, with an “OK” at the end.\n",
    "    2) To see how nosetests becomes really useful, either: (a) add a doctest in another file; or (b) add a file called tests.py containing at least one function with “test” in the name. The test function should check something and raise an exception if things are wrong.\n",
    "    3) Now type nosetests --with-doctest again. You should see that your new tests were also run. To get more detailed output, try nosetests --with-doctest --vs."
   ]
  },
  {
   "cell_type": "code",
   "execution_count": null,
   "metadata": {
    "collapsed": true
   },
   "outputs": [],
   "source": []
  }
 ],
 "metadata": {
  "kernelspec": {
   "display_name": "Python 3",
   "language": "python",
   "name": "python3"
  },
  "language_info": {
   "codemirror_mode": {
    "name": "ipython",
    "version": 3
   },
   "file_extension": ".py",
   "mimetype": "text/x-python",
   "name": "python",
   "nbconvert_exporter": "python",
   "pygments_lexer": "ipython3",
   "version": "3.6.3"
  }
 },
 "nbformat": 4,
 "nbformat_minor": 2
}
